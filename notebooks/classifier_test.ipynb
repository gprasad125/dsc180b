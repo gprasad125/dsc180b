{
 "cells": [
  {
   "cell_type": "code",
   "execution_count": 2,
   "metadata": {},
   "outputs": [],
   "source": [
    "import pandas as pd\n",
    "import os\n",
    "import openai\n",
    "from dotenv import load_dotenv, find_dotenv"
   ]
  },
  {
   "cell_type": "code",
   "execution_count": 3,
   "metadata": {},
   "outputs": [],
   "source": [
    "load_dotenv(find_dotenv())\n",
    "openai.api_key = os.environ.get(\"openai_api\")"
   ]
  },
  {
   "cell_type": "code",
   "execution_count": 7,
   "metadata": {},
   "outputs": [
    {
     "data": {
      "text/plain": [
       "0    I commend all of law enforcement for the secur...\n",
       "1    Socialist tyrant Maduro starves, tortures his ...\n",
       "2    Socialist tyrant Maduro starves, tortures his ...\n",
       "3    Inhofe: The Canadians have already had convers...\n",
       "4    Statement on Iran nuclear agreement. http://t....\n",
       "Name: text, dtype: object"
      ]
     },
     "execution_count": 7,
     "metadata": {},
     "output_type": "execute_result"
    }
   ],
   "source": [
    "df = pd.read_csv(\"../data/raw/SentimentLabeled_10112022.csv\")\n",
    "df[\"text\"].head()"
   ]
  },
  {
   "cell_type": "code",
   "execution_count": 27,
   "metadata": {},
   "outputs": [],
   "source": [
    "def isRelevant(tweet):\n",
    "\n",
    "    prompt = \"\"\"\n",
    "    You are a machine that can only answer \"True\" or \"False\". For example, for the following question:\n",
    "    Q: \"Is Joe Biden the President of the United States\"\n",
    "    The answer would be:\n",
    "    A: True\n",
    "\n",
    "    With this in mind, determine the validity of this statement: The following Tweet is relevant to China\n",
    "    TWEET: \\n\"\"\"\n",
    "\n",
    "    prompt += tweet + \"\\n\" + \"ANSWER: \\n\\n\"\n",
    "    \n",
    "    response = openai.Completion.create(engine = \"text-davinci-003\", prompt = prompt)\n",
    "    answer = response[\"choices\"][0][\"text\"].strip()\n",
    "    \n",
    "    return answer\n",
    "\n",
    "def cleanAnswer(response):\n",
    "   \n",
    "    try:\n",
    "        return eval(response)\n",
    "    except:\n",
    "        if \"False\" in response:\n",
    "            return False\n",
    "        elif \"True\" in response:\n",
    "            return True\n",
    "        else:\n",
    "            return \"Error\"\n",
    "            "
   ]
  },
  {
   "cell_type": "code",
   "execution_count": 10,
   "metadata": {},
   "outputs": [
    {
     "data": {
      "text/html": [
       "<div>\n",
       "<style scoped>\n",
       "    .dataframe tbody tr th:only-of-type {\n",
       "        vertical-align: middle;\n",
       "    }\n",
       "\n",
       "    .dataframe tbody tr th {\n",
       "        vertical-align: top;\n",
       "    }\n",
       "\n",
       "    .dataframe thead th {\n",
       "        text-align: right;\n",
       "    }\n",
       "</style>\n",
       "<table border=\"1\" class=\"dataframe\">\n",
       "  <thead>\n",
       "    <tr style=\"text-align: right;\">\n",
       "      <th></th>\n",
       "      <th>text</th>\n",
       "      <th>Relevant</th>\n",
       "    </tr>\n",
       "  </thead>\n",
       "  <tbody>\n",
       "    <tr>\n",
       "      <th>4747</th>\n",
       "      <td>In abandoning the Iran Nuclear Agreement and h...</td>\n",
       "      <td>False</td>\n",
       "    </tr>\n",
       "    <tr>\n",
       "      <th>14272</th>\n",
       "      <td>Yet another reversal of Trump's efforts to pro...</td>\n",
       "      <td>False</td>\n",
       "    </tr>\n",
       "    <tr>\n",
       "      <th>7342</th>\n",
       "      <td>@NYCHA For our neighbors who speak Chinese, pl...</td>\n",
       "      <td>False</td>\n",
       "    </tr>\n",
       "    <tr>\n",
       "      <th>6335</th>\n",
       "      <td>China controls too much of America’s supply-ch...</td>\n",
       "      <td>True</td>\n",
       "    </tr>\n",
       "    <tr>\n",
       "      <th>13686</th>\n",
       "      <td>I wrote an op-ed in the @dcexaminer this week ...</td>\n",
       "      <td>True</td>\n",
       "    </tr>\n",
       "  </tbody>\n",
       "</table>\n",
       "</div>"
      ],
      "text/plain": [
       "                                                    text  Relevant\n",
       "4747   In abandoning the Iran Nuclear Agreement and h...     False\n",
       "14272  Yet another reversal of Trump's efforts to pro...     False\n",
       "7342   @NYCHA For our neighbors who speak Chinese, pl...     False\n",
       "6335   China controls too much of America’s supply-ch...      True\n",
       "13686  I wrote an op-ed in the @dcexaminer this week ...      True"
      ]
     },
     "execution_count": 10,
     "metadata": {},
     "output_type": "execute_result"
    }
   ],
   "source": [
    "subset = df.sample(n = 100)\n",
    "subset = subset[[\"text\", \"Bucket\"]]\n",
    "subset[\"Relevant\"] = subset[\"Bucket\"].apply(lambda x: x == \"1\")\n",
    "subset.drop(columns = [\"Bucket\"], inplace = True)\n",
    "subset.head()"
   ]
  },
  {
   "cell_type": "code",
   "execution_count": 13,
   "metadata": {},
   "outputs": [],
   "source": [
    "subset[\"gpt_Relevant\"] = subset[\"text\"].apply(isRelevant)"
   ]
  },
  {
   "cell_type": "code",
   "execution_count": 28,
   "metadata": {},
   "outputs": [],
   "source": [
    "subset[\"gpt_Relevant\"] = subset[\"gpt_Relevant\"].apply(cleanAnswer)"
   ]
  },
  {
   "cell_type": "code",
   "execution_count": 29,
   "metadata": {},
   "outputs": [
    {
     "data": {
      "text/plain": [
       "True     58\n",
       "False    42\n",
       "Name: gpt_Relevant, dtype: int64"
      ]
     },
     "execution_count": 29,
     "metadata": {},
     "output_type": "execute_result"
    }
   ],
   "source": [
    "subset[\"gpt_Relevant\"].value_counts()"
   ]
  },
  {
   "cell_type": "code",
   "execution_count": 30,
   "metadata": {},
   "outputs": [
    {
     "data": {
      "text/plain": [
       "0.65"
      ]
     },
     "execution_count": 30,
     "metadata": {},
     "output_type": "execute_result"
    }
   ],
   "source": [
    "(subset[\"Relevant\"] == subset[\"gpt_Relevant\"]).mean()"
   ]
  },
  {
   "cell_type": "code",
   "execution_count": 31,
   "metadata": {},
   "outputs": [
    {
     "data": {
      "text/html": [
       "<div>\n",
       "<style scoped>\n",
       "    .dataframe tbody tr th:only-of-type {\n",
       "        vertical-align: middle;\n",
       "    }\n",
       "\n",
       "    .dataframe tbody tr th {\n",
       "        vertical-align: top;\n",
       "    }\n",
       "\n",
       "    .dataframe thead th {\n",
       "        text-align: right;\n",
       "    }\n",
       "</style>\n",
       "<table border=\"1\" class=\"dataframe\">\n",
       "  <thead>\n",
       "    <tr style=\"text-align: right;\">\n",
       "      <th></th>\n",
       "      <th>text</th>\n",
       "      <th>Relevant</th>\n",
       "      <th>gpt_Relevant</th>\n",
       "    </tr>\n",
       "  </thead>\n",
       "  <tbody>\n",
       "    <tr>\n",
       "      <th>4747</th>\n",
       "      <td>In abandoning the Iran Nuclear Agreement and h...</td>\n",
       "      <td>False</td>\n",
       "      <td>False</td>\n",
       "    </tr>\n",
       "    <tr>\n",
       "      <th>14272</th>\n",
       "      <td>Yet another reversal of Trump's efforts to pro...</td>\n",
       "      <td>False</td>\n",
       "      <td>False</td>\n",
       "    </tr>\n",
       "    <tr>\n",
       "      <th>7342</th>\n",
       "      <td>@NYCHA For our neighbors who speak Chinese, pl...</td>\n",
       "      <td>False</td>\n",
       "      <td>False</td>\n",
       "    </tr>\n",
       "    <tr>\n",
       "      <th>6335</th>\n",
       "      <td>China controls too much of America’s supply-ch...</td>\n",
       "      <td>True</td>\n",
       "      <td>True</td>\n",
       "    </tr>\n",
       "    <tr>\n",
       "      <th>13686</th>\n",
       "      <td>I wrote an op-ed in the @dcexaminer this week ...</td>\n",
       "      <td>True</td>\n",
       "      <td>True</td>\n",
       "    </tr>\n",
       "    <tr>\n",
       "      <th>1716</th>\n",
       "      <td>Fentanyl is responsible for more than 40% of t...</td>\n",
       "      <td>True</td>\n",
       "      <td>False</td>\n",
       "    </tr>\n",
       "    <tr>\n",
       "      <th>4580</th>\n",
       "      <td>(2/3) It seems the President is finding that e...</td>\n",
       "      <td>False</td>\n",
       "      <td>False</td>\n",
       "    </tr>\n",
       "    <tr>\n",
       "      <th>6160</th>\n",
       "      <td>China is the source of many viral outbreaks, b...</td>\n",
       "      <td>True</td>\n",
       "      <td>True</td>\n",
       "    </tr>\n",
       "    <tr>\n",
       "      <th>6462</th>\n",
       "      <td>#ICYMI (2018): America’s national security res...</td>\n",
       "      <td>True</td>\n",
       "      <td>True</td>\n",
       "    </tr>\n",
       "    <tr>\n",
       "      <th>8208</th>\n",
       "      <td>#Crapo4YearHighlight: The Fiscal Year 2020 NDA...</td>\n",
       "      <td>True</td>\n",
       "      <td>True</td>\n",
       "    </tr>\n",
       "    <tr>\n",
       "      <th>13272</th>\n",
       "      <td>Who wants to tell her that Communist China is ...</td>\n",
       "      <td>False</td>\n",
       "      <td>True</td>\n",
       "    </tr>\n",
       "    <tr>\n",
       "      <th>4725</th>\n",
       "      <td>Trump can start keeping his campaign promises ...</td>\n",
       "      <td>True</td>\n",
       "      <td>True</td>\n",
       "    </tr>\n",
       "    <tr>\n",
       "      <th>14483</th>\n",
       "      <td>Three Wuhan lab researchers went to the hospit...</td>\n",
       "      <td>False</td>\n",
       "      <td>True</td>\n",
       "    </tr>\n",
       "    <tr>\n",
       "      <th>10958</th>\n",
       "      <td>It is time the United States unravel our relat...</td>\n",
       "      <td>True</td>\n",
       "      <td>True</td>\n",
       "    </tr>\n",
       "    <tr>\n",
       "      <th>15200</th>\n",
       "      <td>China is conducting cyber operations against t...</td>\n",
       "      <td>True</td>\n",
       "      <td>True</td>\n",
       "    </tr>\n",
       "    <tr>\n",
       "      <th>7940</th>\n",
       "      <td>I cosponsored HR 3289, the Hong Kong Human Rig...</td>\n",
       "      <td>True</td>\n",
       "      <td>True</td>\n",
       "    </tr>\n",
       "    <tr>\n",
       "      <th>3464</th>\n",
       "      <td>My statement on the lifting of tariffs on stee...</td>\n",
       "      <td>False</td>\n",
       "      <td>False</td>\n",
       "    </tr>\n",
       "    <tr>\n",
       "      <th>15461</th>\n",
       "      <td>For nearly 5 years, the government of Iran has...</td>\n",
       "      <td>True</td>\n",
       "      <td>False</td>\n",
       "    </tr>\n",
       "    <tr>\n",
       "      <th>4878</th>\n",
       "      <td>Great meeting with Commerce Sec. Wilbur Ross t...</td>\n",
       "      <td>True</td>\n",
       "      <td>False</td>\n",
       "    </tr>\n",
       "    <tr>\n",
       "      <th>15317</th>\n",
       "      <td>The bipartisan infrastructure agreement is an ...</td>\n",
       "      <td>True</td>\n",
       "      <td>False</td>\n",
       "    </tr>\n",
       "  </tbody>\n",
       "</table>\n",
       "</div>"
      ],
      "text/plain": [
       "                                                    text  Relevant  \\\n",
       "4747   In abandoning the Iran Nuclear Agreement and h...     False   \n",
       "14272  Yet another reversal of Trump's efforts to pro...     False   \n",
       "7342   @NYCHA For our neighbors who speak Chinese, pl...     False   \n",
       "6335   China controls too much of America’s supply-ch...      True   \n",
       "13686  I wrote an op-ed in the @dcexaminer this week ...      True   \n",
       "1716   Fentanyl is responsible for more than 40% of t...      True   \n",
       "4580   (2/3) It seems the President is finding that e...     False   \n",
       "6160   China is the source of many viral outbreaks, b...      True   \n",
       "6462   #ICYMI (2018): America’s national security res...      True   \n",
       "8208   #Crapo4YearHighlight: The Fiscal Year 2020 NDA...      True   \n",
       "13272  Who wants to tell her that Communist China is ...     False   \n",
       "4725   Trump can start keeping his campaign promises ...      True   \n",
       "14483  Three Wuhan lab researchers went to the hospit...     False   \n",
       "10958  It is time the United States unravel our relat...      True   \n",
       "15200  China is conducting cyber operations against t...      True   \n",
       "7940   I cosponsored HR 3289, the Hong Kong Human Rig...      True   \n",
       "3464   My statement on the lifting of tariffs on stee...     False   \n",
       "15461  For nearly 5 years, the government of Iran has...      True   \n",
       "4878   Great meeting with Commerce Sec. Wilbur Ross t...      True   \n",
       "15317  The bipartisan infrastructure agreement is an ...      True   \n",
       "\n",
       "       gpt_Relevant  \n",
       "4747          False  \n",
       "14272         False  \n",
       "7342          False  \n",
       "6335           True  \n",
       "13686          True  \n",
       "1716          False  \n",
       "4580          False  \n",
       "6160           True  \n",
       "6462           True  \n",
       "8208           True  \n",
       "13272          True  \n",
       "4725           True  \n",
       "14483          True  \n",
       "10958          True  \n",
       "15200          True  \n",
       "7940           True  \n",
       "3464          False  \n",
       "15461         False  \n",
       "4878          False  \n",
       "15317         False  "
      ]
     },
     "execution_count": 31,
     "metadata": {},
     "output_type": "execute_result"
    }
   ],
   "source": [
    "subset.head(20)"
   ]
  },
  {
   "cell_type": "code",
   "execution_count": null,
   "metadata": {},
   "outputs": [],
   "source": []
  }
 ],
 "metadata": {
  "interpreter": {
   "hash": "52acd9ffee7ef4a3f81d98f7c00efe030b802d860475b2f86d87171441bb69b3"
  },
  "kernelspec": {
   "display_name": "Python 3 (ipykernel)",
   "language": "python",
   "name": "python3"
  },
  "language_info": {
   "codemirror_mode": {
    "name": "ipython",
    "version": 3
   },
   "file_extension": ".py",
   "mimetype": "text/x-python",
   "name": "python",
   "nbconvert_exporter": "python",
   "pygments_lexer": "ipython3",
   "version": "3.8.2"
  }
 },
 "nbformat": 4,
 "nbformat_minor": 2
}
