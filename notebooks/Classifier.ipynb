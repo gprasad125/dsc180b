{
 "cells": [
  {
   "cell_type": "code",
   "execution_count": 1,
   "metadata": {},
   "outputs": [],
   "source": [
    "import pandas as pd\n",
    "import os\n",
    "import openai\n",
    "from dotenv import load_dotenv, find_dotenv\n",
    "\n",
    "import seaborn as sns"
   ]
  },
  {
   "cell_type": "code",
   "execution_count": 2,
   "metadata": {},
   "outputs": [],
   "source": [
    "load_dotenv(find_dotenv())\n",
    "openai.api_key = os.environ.get(\"openai_api\")"
   ]
  },
  {
   "cell_type": "code",
   "execution_count": 3,
   "metadata": {},
   "outputs": [
    {
     "data": {
      "text/html": [
       "<div>\n",
       "<style scoped>\n",
       "    .dataframe tbody tr th:only-of-type {\n",
       "        vertical-align: middle;\n",
       "    }\n",
       "\n",
       "    .dataframe tbody tr th {\n",
       "        vertical-align: top;\n",
       "    }\n",
       "\n",
       "    .dataframe thead th {\n",
       "        text-align: right;\n",
       "    }\n",
       "</style>\n",
       "<table border=\"1\" class=\"dataframe\">\n",
       "  <thead>\n",
       "    <tr style=\"text-align: right;\">\n",
       "      <th></th>\n",
       "      <th>text</th>\n",
       "      <th>country</th>\n",
       "      <th>Relevant</th>\n",
       "    </tr>\n",
       "  </thead>\n",
       "  <tbody>\n",
       "    <tr>\n",
       "      <th>0</th>\n",
       "      <td>I commend all of law enforcement for the secur...</td>\n",
       "      <td>China</td>\n",
       "      <td>False</td>\n",
       "    </tr>\n",
       "    <tr>\n",
       "      <th>1</th>\n",
       "      <td>Socialist tyrant Maduro starves, tortures his ...</td>\n",
       "      <td>China</td>\n",
       "      <td>True</td>\n",
       "    </tr>\n",
       "    <tr>\n",
       "      <th>2</th>\n",
       "      <td>Socialist tyrant Maduro starves, tortures his ...</td>\n",
       "      <td>Iran</td>\n",
       "      <td>False</td>\n",
       "    </tr>\n",
       "    <tr>\n",
       "      <th>3</th>\n",
       "      <td>Inhofe: The Canadians have already had convers...</td>\n",
       "      <td>Canada</td>\n",
       "      <td>False</td>\n",
       "    </tr>\n",
       "    <tr>\n",
       "      <th>4</th>\n",
       "      <td>Statement on Iran nuclear agreement. http://t....</td>\n",
       "      <td>Iran</td>\n",
       "      <td>False</td>\n",
       "    </tr>\n",
       "  </tbody>\n",
       "</table>\n",
       "</div>"
      ],
      "text/plain": [
       "                                                text country  Relevant\n",
       "0  I commend all of law enforcement for the secur...   China     False\n",
       "1  Socialist tyrant Maduro starves, tortures his ...   China      True\n",
       "2  Socialist tyrant Maduro starves, tortures his ...    Iran     False\n",
       "3  Inhofe: The Canadians have already had convers...  Canada     False\n",
       "4  Statement on Iran nuclear agreement. http://t....    Iran     False"
      ]
     },
     "execution_count": 3,
     "metadata": {},
     "output_type": "execute_result"
    }
   ],
   "source": [
    "df = pd.read_csv(\"../data/raw/SentimentLabeled_10112022.csv\")\n",
    "df = df[[\"text\", \"Bucket\", \"country\"]]\n",
    "df[\"Relevant\"] = df[\"Bucket\"].apply(lambda x: x == \"1\")\n",
    "df.drop(columns = [\"Bucket\"], inplace = True)\n",
    "df.head()"
   ]
  },
  {
   "cell_type": "code",
   "execution_count": 4,
   "metadata": {},
   "outputs": [],
   "source": [
    "def isRelevant(tweet):\n",
    "\n",
    "    prompt = \"\"\"\n",
    "    You are a machine that will be given a Tweet from a U.S. politician, and you will be asked to determine its relevancy to one of three countries. If it is relevant, return \"True\". Otherwise, return \"False\".\n",
    "    \n",
    "    The three possible countries are Canada, Iran, or China. \n",
    "    A \"relevant\" tweet would have:\n",
    "    - They express sentiment towards the country of interest, either positive or negative.\n",
    "    - They discuss how only ONE of these countries' governments is having and impact on American politics. \n",
    "\n",
    "    EXAMPLE TWEET:\n",
    "    \"They are also an assault on the American-led world order, and a disturbing premonition of an alternative world order—one controlled by the Chinese Communist Party and one that ends in Room 101.\"\n",
    "\n",
    "    EXAMPLE ANSWER: \n",
    "    True\n",
    "\n",
    "    EXPLANATION:\n",
    "    This tweet is clearly about the Chinese government and its impact over American politics. Hence, the return value is True. \n",
    "\n",
    "    EXAMPLE TWEET:\n",
    "    \"JUST IN: House votes to block Obama from lifting Iran sanctions https://t.co/EFI5L9WjI4\"\n",
    "\n",
    "    EXAMPLE ANSWER: \n",
    "    False\n",
    "\n",
    "    EXPLANATION:\n",
    "    This tweet, while mentioning Iran, does not reflect any substance over Iranian political effects on America. Its ONLY focus is on America, not Iranian impacts on America, and is thus irrelvant. \n",
    "\n",
    "    EXAMPLE TWEET:\n",
    "    \"The President’s border-crossing permit for the A2A Railway Development Corp is a big boost for efforts to connect Alaska’s rich resources to a global market via freight rail through Canada. https://t.co/baSaeN9Lym\"\n",
    "\n",
    "    EXAMPLE ANSWER: \n",
    "    True\n",
    "\n",
    "    EXPLANATION:\n",
    "    This tweet is about how Canadian freight reils allow for American political expansion, and is thus relevant about one of our three options.\n",
    "\n",
    "    EXAMPLE TWEET:\n",
    "    Months ago, all 100 Senators, Democrats &amp; Republicans alike, passed a bill to stop the influence of the Chinese government-funded Confucius Institute in US schools. The Dem-led House continues to block the legislation.\n",
    "\n",
    "    Why is Pelosi playing politics with our national security?\n",
    "\n",
    "    EXAMPLE ANSWER: \n",
    "    False\n",
    "\n",
    "    EXPLANATION: \n",
    "    This Tweet, while discussing Chinese political impact on America, does NOT contain sentiment towards China. Instead, it focuses its sentiment towards America. Therefore, it's irrelevant. \n",
    "\n",
    "    EXAMPLE TWEET:\n",
    "    .@grahamblog: If war continues, how will Iran take us seriously re: nuclear program if U.S. does nothing about Assad? #MTP\n",
    "\n",
    "    EXAMPLE ANSWER:\n",
    "    False\n",
    "\n",
    "    EXPLANATION:\n",
    "    Again, this Tweet mentions Iran-US relations, but the sentiment expressed is towards America, not Iran. Therefore, it's irrelevant. \n",
    "    \n",
    "    TWEET: \\n\n",
    "    \"\"\"\n",
    "\n",
    "    prompt += tweet + \"\\n\" + \"ANSWER: \\n\\n\"\n",
    "    \n",
    "    response = openai.Completion.create(engine = \"text-davinci-003\", prompt = prompt)\n",
    "    answer = response[\"choices\"][0][\"text\"].strip()\n",
    "    \n",
    "    return answer\n",
    "\n",
    "def cleanAnswer(response):\n",
    "   \n",
    "    if \"False\" in response:\n",
    "\n",
    "        return False\n",
    "\n",
    "    else:\n",
    "\n",
    "        return True"
   ]
  },
  {
   "cell_type": "code",
   "execution_count": 5,
   "metadata": {},
   "outputs": [
    {
     "data": {
      "text/plain": [
       "True     82\n",
       "False    18\n",
       "Name: gpt_Relevant, dtype: int64"
      ]
     },
     "execution_count": 5,
     "metadata": {},
     "output_type": "execute_result"
    }
   ],
   "source": [
    "subset = df.sample(n = 100)\n",
    "subset.head()\n",
    "\n",
    "subset[\"gpt_Relevant\"] = subset[\"text\"].apply(isRelevant)\n",
    "subset[\"gpt_Relevant\"].value_counts()\n",
    "subset[\"gpt_Relevant\"] = subset[\"gpt_Relevant\"].apply(cleanAnswer)\n",
    "subset[\"gpt_Relevant\"].value_counts()\n"
   ]
  },
  {
   "cell_type": "code",
   "execution_count": 7,
   "metadata": {},
   "outputs": [
    {
     "data": {
      "text/plain": [
       "0.66"
      ]
     },
     "execution_count": 7,
     "metadata": {},
     "output_type": "execute_result"
    },
    {
     "data": {
      "image/png": "[encoded data removed]",
      "text/plain": [
       "<Figure size 640x480 with 2 Axes>"
      ]
     },
     "metadata": {},
     "output_type": "display_data"
    }
   ],
   "source": [
    "#subset[\"gpt_Relevant\"] = subset[\"gpt_Relevant\"].apply(cleanAnswer)\n",
    "cm = (pd.crosstab(subset[\"Relevant\"], subset[\"gpt_Relevant\"]) / subset.shape[0])\n",
    "cm = sns.heatmap(cm, annot = True, cmap=sns.color_palette(\"vlag\", as_cmap=True))\n",
    "cm.set_title(\"Normalized Confusion Matrix\")\n",
    "cm.set_xlabel(\"Predicted Relevance\")\n",
    "cm.set_ylabel(\"Actual Relevance\")\n",
    "cm.plot()\n",
    "\n",
    "cm.get_figure().savefig(\"cm.png\", dpi=300)\n",
    "\n",
    "acc = (subset[\"Relevant\"] == subset[\"gpt_Relevant\"]).mean()\n",
    "acc"
   ]
  },
  {
   "cell_type": "code",
   "execution_count": null,
   "metadata": {},
   "outputs": [],
   "source": []
  },
  {
   "cell_type": "code",
   "execution_count": 16,
   "metadata": {},
   "outputs": [
    {
     "name": "stdout",
     "output_type": "stream",
     "text": [
      "The Canadian border is now open to vaccinated Americans. Here are a few quick reminders if you plan to travel:\n",
      "➡️Get tested 72 hours in advance\n",
      "➡️Have vaccine documentation\n",
      "➡️Log info on ArriveCAN App\n",
      "➡️Have a quarantine plan\n",
      "\n",
      "https://t.co/igKdbwkpRF\n",
      "--------\n",
      "Of all the things we will do...I cant think of anything more important than getting the Iran nuclear ambitions right. http://t.co/Dwz9OA5oft\n",
      "--------\n",
      "“I had hoped Congresswoman Judy Chu would be able to testify today. As the 1st Chinese American woman elected to Congress she would have had a valuable perspective. But for the 1st time in 2 decades, the subcommittee refused.” Thank you @SenatorDurbin for fighting for our rights https://t.co/7V5zmPsyM2\n",
      "--------\n",
      "President Biden tonight has proudly laid out his job-killing anti-energy actions. #JointAddress\n",
      "\n",
      "In the process of destroying American energy jobs, Biden is making America more and more dependent on countries like China and Russia for energy.\n",
      "https://t.co/qvWPT5ITDh\n",
      "--------\n",
      "I have serious reservations about re-starting negotiations with Iran while they continue to enrich uranium at dangerous and unacceptable levels. That’s why I introduced a bipartisan resolution (H.Res. 214) condemning their unchecked nuclear program.  https://t.co/96uMmq4lkD\n",
      "--------\n",
      "The #CCP is actively committing atrocious human rights abuses by imprisoning millions of innocent Muslim Uighurs.\n",
      "\n",
      "America can't afford to soften our pressure on #China.\n",
      "\n",
      "We must stand strong against China and ethnic &amp; religious persecution. https://t.co/yK4XaCtKIG\n",
      "--------\n",
      "Read my statement on the Obama Administration's deal with Iran here: http://t.co/lPWBvCy49l.\n",
      "--------\n",
      "chairman of CEFC, Ye Jianming, for half-ownership of a holding company that was expected to provide Biden with more than $10 million a year.\n",
      "Ye, who had ties to the Chinese military &amp; intelligence service, hasn’t been seen since being taken into custody by Chinese authorities...\n",
      "--------\n",
      "It was great celebrating the Year of the Pig with the United States China Association of Commerce tonight! https://t.co/drQAztPMab\n",
      "--------\n",
      "We must get to the bottom of the disturbing and pervasive Chinese Consulate scam where hackers are targeting the identity of residents of Chinatowns in BK and Manhattan. That’s why I wrote to the @FTC urging a focus on the issue &amp; answers. More:  https://t.co/sLQee9tjCA\n",
      "--------\n",
      "Getting to the bottom of the COVID-19 outbreak is key to preventing a future pandemic.\n",
      " \n",
      "I’ll keep fighting to hold Communist China accountable until the world gets the answers they deserve. https://t.co/AKBPDWwGOP\n",
      "--------\n",
      "The #KeystoneXL bill House voting on today is an earmark for a Canadian oil co., subverts environmental protections. I will vote against.\n",
      "--------\n",
      "Every action the Biden Administration takes on China and Russia hurts our national security, and economic security. When will the President start fighting for the American People? https://t.co/tkFISAXE9F\n",
      "--------\n",
      "@POTUS We must maintain the JCPOA as long as the IAEA and U.S. military and defense leaders verify Iran’s compliance.\n",
      "--------\n",
      "About to speak on the Senate floor regarding my amendment that would block federal funds for the build-out of our domestic renewable energy industry from going to communist China.\n",
      " \n",
      "Watch here:\n",
      "https://t.co/Smyq8mgDlg\n",
      "--------\n",
      "These tariffs have prompted global threats of retaliation, including threats from our allies. Canada is one of San Diego's top two export markets, and if they impose tariffs on the U.S. our regional economy will suffer.\n",
      "https://t.co/fYqlNeOVhY\n",
      "--------\n",
      "The Nebraska Chinese Association hosted an absolutely beautiful Chinese New Years celebration. Our nation and local area are stronger and enriched by the Chinese-American community. It’s the Year of the Pig... and this Bacon enjoyed every minute of last night’s celebration! https://t.co/weDrA7W0Ui\n",
      "--------\n",
      "I wonder how @SpeakerPelosi can read stories like this and think to herself that reneging on House Democrats commitment to work with Republicans on the #ChinaTaskForce was good for our country? 🤷‍♂️ https://t.co/tdpUZeFbul\n",
      "--------\n",
      "I have long been an advocate for creating better trade deals that put America first. A new NAFTA means another way to leverage talks with China, as well as create a more effective trade partnership between the US, Mexico, and Canada. #NAFTA https://t.co/F9NMWV6Noi\n",
      "--------\n",
      "Great news. When operational, Aegis ashore in Japan will free up high end US and Japanese ships from the missile defense mission to conduct other missions, including deterring aggression in the East China Sea. https://t.co/EM9MZJedN4\n",
      "--------\n",
      "Under Biden’s tax plan, U.S. businesses will once again have the highest tax rates in the developed world—7% higher than Communist China!\n",
      "\n",
      "American jobs will move overseas. Working families will absorb 70% of the tax hike through lower wages and higher cost of goods.\n",
      "--------\n",
      "Meanwhile, China is investing billions more in their military forces and weapons systems. \n",
      " \n",
      "It’s absolutely critical that we invest in our Armed Forces TODAY to be ready for the challenges of tomorrow! 2/2\n",
      "\n",
      "@HASCRepublicans\n",
      "--------\n",
      "Tuesday felt like the dreaded culmination of a year with nearly 3800 reported incidents of anti-Asian hate, fueled by terms like “China virus” and centuries of racism &amp; xenophobia.\n",
      "\n",
      "For anyone scared or alone: We see you, we stand with you &amp; we'll do all in our power to help you. https://t.co/XMjZaycvti\n",
      "--------\n",
      "The Senate Armed Services Comm. is right to increase the Pres.’s defense budget by $25B to keep up with runaway inflation. Without it, there will be large cuts to the US military, while China and Russia are greatly expanding. The House must follow suit! https://t.co/fUtuUtxaph\n",
      "--------\n",
      "Biden-Linked Firm WestExec Scrubs China Work From Website https://t.co/Q2dFzIXZPn\n",
      "--------\n",
      "Hunter Biden profited:\n",
      "\n",
      "-1 million from a Ukrainian energy company.\n",
      "\n",
      "-3 million from a Russian billionaire.\n",
      "\n",
      "-4 million from a company tied to the Chinese Communist Party.\n",
      "\n",
      "We know he’s under federal investigation.\n",
      "\n",
      "But the media still calls it “Russian disinformation.”\n",
      "--------\n",
      "Enjoyed touring Iowa Premium in Tama Co. last week, the first Iowa-based company to send beef to China after 13 year embargo! #99CountyTour https://t.co/VdgjgwzA6c\n",
      "--------\n",
      "Farmers in Wisconsin have faced enormous challenges and Trump’s trade war with China has not helped. https://t.co/YLppkcGwLb\n",
      "--------\n"
     ]
    }
   ],
   "source": [
    "errors = subset.loc[(subset[\"Relevant\"] == False) & (subset[\"gpt_Relevant\"] == True)][\"text\"]\n",
    "errors.reset_index(inplace = True, drop = True)\n",
    "\n",
    "for i in range(len(errors)):\n",
    "\n",
    "    print(errors[i])\n",
    "    print(\"--------\")"
   ]
  },
  {
   "cell_type": "code",
   "execution_count": null,
   "metadata": {},
   "outputs": [],
   "source": [
    "\n",
    "\n",
    "# Tasks for Week 4 \n",
    "# 1. Editing prompts (add more \"relevance\" explanation) \n",
    "# 2. Explore fine-tuning GPT-3 on Tweet data\n",
    "# 3. BERT Tokenizer as control group (?)\n",
    "\n"
   ]
  }
 ],
 "metadata": {
  "interpreter": {
   "hash": "52acd9ffee7ef4a3f81d98f7c00efe030b802d860475b2f86d87171441bb69b3"
  },
  "kernelspec": {
   "display_name": "Python 3 (ipykernel)",
   "language": "python",
   "name": "python3"
  },
  "language_info": {
   "codemirror_mode": {
    "name": "ipython",
    "version": 3
   },
   "file_extension": ".py",
   "mimetype": "text/x-python",
   "name": "python",
   "nbconvert_exporter": "python",
   "pygments_lexer": "ipython3",
   "version": "3.8.2"
  }
 },
 "nbformat": 4,
 "nbformat_minor": 2
}
