{
 "cells": [
  {
   "cell_type": "code",
   "execution_count": 1,
   "metadata": {},
   "outputs": [],
   "source": [
    "import pandas as pd\n",
    "import os\n",
    "import openai\n",
    "from dotenv import dotenv_values"
   ]
  },
  {
   "cell_type": "code",
   "execution_count": 2,
   "metadata": {},
   "outputs": [],
   "source": [
    "openai.api_key = dotenv_values(\"../.env\")[\"openai_api\"]"
   ]
  },
  {
   "cell_type": "code",
   "execution_count": 3,
   "metadata": {},
   "outputs": [
    {
     "data": {
      "text/plain": [
       "0    By January 23, 2020, Wuhan was placed under qu...\n",
       "1    Anytime the radical left makes excuses for Chi...\n",
       "2    During Senate hearings, I often ask witnesses ...\n",
       "3    Stop blaming unvaccinated Americans.\\n\\nStart ...\n",
       "4    Russia has a well established TRIAD: submarine...\n",
       "Name: text, dtype: object"
      ]
     },
     "execution_count": 3,
     "metadata": {},
     "output_type": "execute_result"
    }
   ],
   "source": [
    "df = pd.read_csv(\"../data/raw/ChinaTweets_Aug2021_Jan2023_01162023.csv\")\n",
    "df[\"text\"].head()"
   ]
  },
  {
   "cell_type": "code",
   "execution_count": 5,
   "metadata": {},
   "outputs": [
    {
     "data": {
      "text/plain": [
       "'False.'"
      ]
     },
     "execution_count": 5,
     "metadata": {},
     "output_type": "execute_result"
    }
   ],
   "source": [
    "prompt = \"Determine if the following Tweet from a US politician is relevant towards China or not. Answer only as True, if relevant, and False otherwise: \\n\"\n",
    "prompt += df[\"text\"].iloc[12]\n",
    "\n",
    "openai.Completion.create(engine = \"text-davinci-003\", prompt = prompt)[\"choices\"][0][\"text\"].strip()"
   ]
  },
  {
   "cell_type": "code",
   "execution_count": 4,
   "metadata": {},
   "outputs": [],
   "source": [
    "def isRelevant(tweet):\n",
    "    \n",
    "    prompt = \"Determine if the following Tweet from a US politician is relevant towards China or not. Answer only as True, if relevant, and False otherwise: \\n\"\n",
    "    prompt += tweet\n",
    "    \n",
    "    response = openai.Completion.create(engine = \"text-davinci-003\", prompt = prompt)\n",
    "    answer = response[\"choices\"][0][\"text\"].strip()\n",
    "    \n",
    "    return answer"
   ]
  },
  {
   "cell_type": "code",
   "execution_count": 7,
   "metadata": {},
   "outputs": [],
   "source": [
    "df[\"gpt_relevance\"] = df[\"text\"].apply(isRelevant)"
   ]
  },
  {
   "cell_type": "code",
   "execution_count": null,
   "metadata": {},
   "outputs": [],
   "source": []
  }
 ],
 "metadata": {
  "interpreter": {
   "hash": "52acd9ffee7ef4a3f81d98f7c00efe030b802d860475b2f86d87171441bb69b3"
  },
  "kernelspec": {
   "display_name": "Python 3 (ipykernel)",
   "language": "python",
   "name": "python3"
  },
  "language_info": {
   "codemirror_mode": {
    "name": "ipython",
    "version": 3
   },
   "file_extension": ".py",
   "mimetype": "text/x-python",
   "name": "python",
   "nbconvert_exporter": "python",
   "pygments_lexer": "ipython3",
   "version": "3.8.2"
  }
 },
 "nbformat": 4,
 "nbformat_minor": 2
}
